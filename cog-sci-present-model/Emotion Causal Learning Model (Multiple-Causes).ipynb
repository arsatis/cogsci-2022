{
 "cells": [
  {
   "cell_type": "code",
   "execution_count": 1,
   "id": "15e23ef1",
   "metadata": {},
   "outputs": [],
   "source": [
    "import matplotlib.pyplot as plt\n",
    "import numpy as np\n",
    "import pymc3 as pm\n",
    "import theano\n",
    "import theano.tensor as tt\n",
    "import arviz as az\n",
    "import pandas as pd\n",
    "from theano import shared\n",
    "from scipy import stats\n",
    "import math"
   ]
  },
  {
   "cell_type": "markdown",
   "id": "90127178-a406-45fb-b8a3-e6dbbeea8ae5",
   "metadata": {},
   "source": [
    "# Helper functions"
   ]
  },
  {
   "cell_type": "code",
   "execution_count": 2,
   "id": "2fccf061",
   "metadata": {},
   "outputs": [],
   "source": [
    "def flatten(t):\n",
    "    return [item for sublist in t for item in sublist]\n",
    "\n",
    "def normalize(x):\n",
    "    return x/np.sum(x)\n",
    "\n",
    "def rmse(pred, actual):\n",
    "    return math.sqrt(np.mean((pred-actual)**2))\n",
    "\n",
    "def sort_category(unique, count):\n",
    "    output = np.ones(3) - 1\n",
    "    for i in range(3):\n",
    "        for j in range(len(unique)):\n",
    "            if(i==unique[j]):\n",
    "                output[i]=count[j]\n",
    "    return normalize(output) \n",
    "\n",
    "def perturb(x, noise=.001):\n",
    "    return tt.switch(tt.ge(x,1),1-noise, tt.switch(tt.le(x,0), noise, x))\n",
    "\n",
    "def compute_ci_discrete(x, HDI, n, sim):\n",
    "    output = [None]*sim\n",
    "    for i in range(sim):\n",
    "        draw = np.random.choice(x, size = n, replace = True)\n",
    "        unique, counts = np.unique(draw, return_counts=True)\n",
    "        output[i] = sort_category(unique, counts)\n",
    "    lower = np.ones(len(output[0]))\n",
    "    upper = np.ones(len(output[0]))\n",
    "    output = np.transpose(output) # each element is now all the samples of one category\n",
    "    for i in range(len(output)):\n",
    "        lower[i] = np.quantile(output[i], q = (1-HDI)/2)\n",
    "        upper[i] = np.quantile(output[i], q = 1-(1-HDI)/2)\n",
    "    return [lower, upper]\n",
    "\n",
    "def compute_ci_continuous(x, HDI, n, sim):\n",
    "    output = np.ones(sim)\n",
    "    for i in range(sim):\n",
    "        draw = np.random.choice(x, size = n, replace = True)\n",
    "        output[i] = np.mean(draw)\n",
    "    lower = np.quantile(output, q = (1-HDI)/2)\n",
    "    upper = np.quantile(output, q = 1-(1-HDI)/2)\n",
    "    return [lower, upper]\n",
    "\n",
    "def computeA(m, s):\n",
    "    return (m*s)/(1-m)"
   ]
  },
  {
   "cell_type": "markdown",
   "id": "dbaa8274-cc41-472f-bee2-5447e15856c4",
   "metadata": {},
   "source": [
    "# Computational models for non-tracking study\n",
    "\n",
    "## I/O preprocessing"
   ]
  },
  {
   "cell_type": "code",
   "execution_count": 3,
   "id": "5f45d123",
   "metadata": {},
   "outputs": [],
   "source": [
    "data = pd.read_csv('data/ecl_dat_multiple-cause.csv', encoding=\"ISO-8859-1\")\n",
    "emotion = data.loc[data['condition'] == 'emotion']\n",
    "noemotion = data.loc[data['condition'] == 'no-emotion']"
   ]
  },
  {
   "cell_type": "markdown",
   "id": "6d85c6ad-d646-432e-bbf5-0dd2b1da64f4",
   "metadata": {},
   "source": [
    "### Means for causal inference"
   ]
  },
  {
   "cell_type": "code",
   "execution_count": 4,
   "id": "f023644f",
   "metadata": {},
   "outputs": [],
   "source": [
    "world1human_emotion = np.array(emotion[\"relationBlueNorm\"])\n",
    "world2human_emotion = np.array(emotion[\"relationOrangeNorm\"])\n",
    "world3human_emotion = np.array(emotion[\"relationOrangeBlueNorm\"])\n",
    "worldhuman_emotion = sort_category([0,1,2],[np.mean(world1human_emotion),np.mean(world2human_emotion),np.mean(world3human_emotion)])\n",
    "\n",
    "world1human_noemotion = np.array(noemotion[\"relationBlueNorm\"]) \n",
    "world2human_noemotion = np.array(noemotion[\"relationOrangeNorm\"]) \n",
    "world3human_noemotion = np.array(noemotion[\"relationOrangeBlueNorm\"])\n",
    "worldhuman_noemotion = sort_category([0,1,2],[np.mean(world1human_noemotion),np.mean(world2human_noemotion),np.mean(world3human_noemotion)])"
   ]
  },
  {
   "cell_type": "markdown",
   "id": "da0fc256-edff-49f9-a924-691835b117b1",
   "metadata": {},
   "source": [
    "### Means for belief inference"
   ]
  },
  {
   "cell_type": "code",
   "execution_count": 5,
   "id": "73fc7101",
   "metadata": {},
   "outputs": [],
   "source": [
    "belief1human_emotion = np.array(emotion[\"expBlueNorm\"]) \n",
    "belief2human_emotion = np.array(emotion[\"expOrangeNorm\"]) \n",
    "belief3human_emotion = np.array(emotion[\"expBothNorm\"]) \n",
    "beliefhuman_emotion = sort_category([0,1,2],[np.mean(belief1human_emotion),np.mean(belief2human_emotion),np.mean(belief3human_emotion)])\n",
    "\n",
    "belief1human_noemotion = np.array(noemotion[\"expBlueNorm\"]) \n",
    "belief2human_noemotion = np.array(noemotion[\"expOrangeNorm\"]) \n",
    "belief3human_noemotion = np.array(noemotion[\"expBothNorm\"]) \n",
    "beliefhuman_noemotion = sort_category([0,1,2],[np.mean(belief1human_noemotion),np.mean(belief2human_noemotion),np.mean(belief3human_noemotion)])"
   ]
  },
  {
   "cell_type": "code",
   "execution_count": 6,
   "id": "67767d5f",
   "metadata": {},
   "outputs": [
    {
     "name": "stdout",
     "output_type": "stream",
     "text": [
      "[0.152335   0.41017766 0.43748734]\n",
      "[0.20990514 0.29784484 0.49225001]\n",
      "[0.40088854 0.29801169 0.30109977]\n",
      "[0.28662589 0.28182887 0.43154524]\n"
     ]
    }
   ],
   "source": [
    "print(worldhuman_emotion)\n",
    "print(worldhuman_noemotion)\n",
    "print(beliefhuman_emotion)\n",
    "print(beliefhuman_noemotion)"
   ]
  },
  {
   "cell_type": "markdown",
   "id": "7c0fe87d-81de-4a09-be67-74edec134b7c",
   "metadata": {},
   "source": [
    "### Means for knowledge and desire inference"
   ]
  },
  {
   "cell_type": "code",
   "execution_count": 7,
   "id": "455a8482",
   "metadata": {},
   "outputs": [
    {
     "name": "stdout",
     "output_type": "stream",
     "text": [
      "0.5296610169491526\n",
      "0.934322033898305\n"
     ]
    }
   ],
   "source": [
    "knowledgehuman_emotion = (np.array(emotion[\"knowledge1\"])-1)/8\n",
    "print(np.mean(knowledgehuman_emotion))\n",
    "desirehuman_emotion = (np.array(emotion[\"intention3\"])-1)/8\n",
    "print(np.mean(desirehuman_emotion))"
   ]
  },
  {
   "cell_type": "code",
   "execution_count": 8,
   "id": "9f474567",
   "metadata": {},
   "outputs": [
    {
     "name": "stdout",
     "output_type": "stream",
     "text": [
      "0.7517857142857143\n",
      "0.8892857142857142\n"
     ]
    }
   ],
   "source": [
    "knowledgehuman_noemotion = (np.array(noemotion[\"knowledge1\"])-1)/8\n",
    "print(np.mean(knowledgehuman_noemotion))\n",
    "desirehuman_noemotion = (np.array(noemotion[\"intention3\"])-1)/8\n",
    "print(np.mean(desirehuman_noemotion))"
   ]
  },
  {
   "cell_type": "markdown",
   "id": "70b61dfd-6178-4b1d-9c8f-0be11bf8457f",
   "metadata": {},
   "source": [
    "## Model (for the condition with no emotional display)"
   ]
  },
  {
   "cell_type": "code",
   "execution_count": 9,
   "id": "c3ca38b2",
   "metadata": {},
   "outputs": [],
   "source": [
    "# These parameters are fixed across both conditions (emotions and no-emotions)\n",
    "# A noise parameter which controls how much randomness is added at each conditional sampling (e.g., drawing actions from belief and desire) was allowed to vary across both conditions\n",
    "\n",
    "# The model assumes that people perceive others to have a knowledgability of around 0.7.\n",
    "# We simulated this using a beta distribution with a = 5 and b = 2.\n",
    "a = 5\n",
    "b = 2\n",
    "\n",
    "d = .5 # fixed prior for desire\n",
    "delay = .2 # probability that first action had a delayed effect\n",
    "human_prior = [0.3816152,0.3063088,0.3120760]"
   ]
  },
  {
   "cell_type": "code",
   "execution_count": 10,
   "id": "2232f97f",
   "metadata": {},
   "outputs": [],
   "source": [
    "np.random.seed(123456)"
   ]
  },
  {
   "cell_type": "code",
   "execution_count": 11,
   "id": "8a33687f",
   "metadata": {},
   "outputs": [
    {
     "name": "stderr",
     "output_type": "stream",
     "text": [
      "Multiprocess sampling (4 chains in 2 jobs)\n",
      "CompoundStep\n",
      ">CategoricalGibbsMetropolis: [belief2_random, belief1_random, world]\n",
      ">NUTS: [knowledge_p]\n",
      ">CompoundStep\n",
      ">>Metropolis: [desire]\n",
      ">>Metropolis: [knowledge]\n"
     ]
    },
    {
     "data": {
      "text/html": [
       "\n",
       "    <div>\n",
       "        <style>\n",
       "            /* Turns off some styling */\n",
       "            progress {\n",
       "                /* gets rid of default border in Firefox and Opera. */\n",
       "                border: none;\n",
       "                /* Needs to be in here for Safari polyfill so background images work as expected. */\n",
       "                background-size: auto;\n",
       "            }\n",
       "            .progress-bar-interrupted, .progress-bar-interrupted::-webkit-progress-bar {\n",
       "                background: #F44336;\n",
       "            }\n",
       "        </style>\n",
       "      <progress value='12000' class='' max='12000' style='width:300px; height:20px; vertical-align: middle;'></progress>\n",
       "      100.00% [12000/12000 00:59<00:00 Sampling 4 chains, 0 divergences]\n",
       "    </div>\n",
       "    "
      ],
      "text/plain": [
       "<IPython.core.display.HTML object>"
      ]
     },
     "metadata": {},
     "output_type": "display_data"
    },
    {
     "name": "stderr",
     "output_type": "stream",
     "text": [
      "Sampling 4 chains for 1_000 tune and 2_000 draw iterations (4_000 + 8_000 draws total) took 76 seconds.\n",
      "The number of effective samples is smaller than 25% for some parameters.\n"
     ]
    },
    {
     "name": "stdout",
     "output_type": "stream",
     "text": [
      "0.14027682241692474\n",
      "0.18056711834482866\n"
     ]
    }
   ],
   "source": [
    "with pm.Model() as model1:\n",
    "    noise = .25\n",
    "    world = pm.Categorical(\"world\", [human_prior], shape=(1)) # blue, orange, both, others\n",
    "    knowledge_p = pm.Beta(\"knowledge_p\", a, b, shape=(1)) # reliability of the agent's knowledge\n",
    "    knowledge = pm.Binomial(\"knowledge\", 1, knowledge_p, shape=(1))\n",
    "    \n",
    "    belief1_random = pm.Categorical(\"belief1_random\", [1,1,1], shape=(1))\n",
    "    belief1 = pm.Deterministic(\"belief1\", knowledge*world + (1-knowledge)*belief1_random)\n",
    "    \n",
    "    desire = pm.Binomial(\"desire\",1, d, shape=(1)) # bulb=1, others=0\n",
    "\n",
    "    action1_blue_p = pm.Deterministic(\"action1_blue_p\", tt.eq(belief1,0)*desire*(1-noise) + \\\n",
    "                                      # if believe both are needed,\n",
    "                                      tt.eq(belief1,2)*desire*(1-noise) + \\\n",
    "                                      # mistaken action\n",
    "                                      tt.eq(belief1,1)*desire*noise +\\\n",
    "                                      # if desire something else\n",
    "                                      (1-desire)*noise)\n",
    "    action1_blue_p = perturb(action1_blue_p)\n",
    "    \n",
    "    action1_orange_p = pm.Deterministic(\"action1_orange_p\", tt.eq(belief1,1)*desire*(1-noise) + \\\n",
    "                                        # if belief both are needed,\n",
    "                                        tt.eq(belief1,2)*desire*(1-noise) + \\\n",
    "                                        # mistaken action\n",
    "                                        tt.eq(belief1,0)*desire*noise +\\\n",
    "                                        # if desire something else,\n",
    "                                        (1-desire)*noise)\n",
    "    action1_orange_p = perturb(action1_orange_p)\n",
    "    \n",
    "    action1_stack = tt.transpose(tt.stack(action1_blue_p,action1_orange_p,[noise*2]))\n",
    "    action1 = pm.Categorical(\"action1\",action1_stack,observed=0,shape=(1)) # blue orange others\n",
    "    \n",
    "    outcome1_p = pm.Deterministic(\"outcome1_p\", tt.eq(world,0)*tt.eq(action1,0)*(1-delay) + \\\n",
    "                                  tt.eq(world,1)*tt.eq(action1,1)*(1-delay) + \\\n",
    "                                  # if both boxes are required, then outcome will not happen\n",
    "                                  tt.eq(world,2)*0)\n",
    "    outcome1_p = perturb(outcome1_p,noise) # add noise to outcome\n",
    "    \n",
    "    outcome1 = pm.Binomial(\"outcome1\", 1, outcome1_p, observed = 0 , shape = (1))\n",
    "    \n",
    "    happy1 = outcome1*desire*(1-noise) + noise*(1-desire)\n",
    "    # if agent believes both actions are needed, they won't be frustrated at the lack of an outcome\n",
    "    frustrated1 = (1-outcome1)*desire*tt.neq(belief1, 2)*(1-noise) + (1-outcome1)*desire*tt.eq(belief1, 2)*noise + noise*(1-desire)\n",
    "    neutral1 = [1]\n",
    "    emotion_array1 = tt.transpose(tt.stack(happy1, frustrated1, neutral1 ))\n",
    "    expression1 = pm.Categorical(\"expression1\",emotion_array1,observed=2 ) # happy, frustrated, neutral\n",
    "\n",
    "    # if frustrated, agent is likely to revise belief\n",
    "    # else stick to previous belief\n",
    "    belief2_random = pm.Categorical(\"belief2_random\", [1,1,1], shape=(1))\n",
    "    belief2 = pm.Deterministic(\"belief2\", tt.eq(expression1,1)*belief2_random + \\\n",
    "                              tt.neq(expression1,1)*belief1)\n",
    "    \n",
    "    # if outcome has been reached (and agent desired outcome), then likely no action would follow \n",
    "    action2_blue_p = pm.Deterministic(\"action2_blue_p\", tt.switch(tt.eq(outcome1,0)*desire, \\\n",
    "                                                                  tt.eq(belief2,0)*(1-noise) + \\\n",
    "                                                                  # if belief both are needed and orange was pushed previously, then push blue\n",
    "                                                                  tt.eq(belief2,2)*tt.eq(action1,1)*(1-noise)+ \\\n",
    "                                                                  # mistaken action\n",
    "                                                                  tt.eq(belief2,1)*noise,\n",
    "                                                                  # if outcome was reached at t1, no further action required\n",
    "                                                                  noise)) \n",
    "    action2_blue_p = perturb(action2_blue_p)\n",
    "    \n",
    "    # if outcome has been reached (and agent desired outcome), then likely no action would follow \n",
    "    action2_orange_p = pm.Deterministic(\"action2_orange_p\", tt.switch(tt.eq(outcome1,0)*desire, \\\n",
    "                                                                  tt.eq(belief2,1)*(1-noise) + \\\n",
    "                                                                  # if belief both are needed and blue was pushed previously, then push orange \n",
    "                                                                  tt.eq(belief2,2)*tt.eq(action1,0)*(1-noise)+ \\\n",
    "                                                                  # mistaken action\n",
    "                                                                  tt.eq(belief2,0)*noise,\n",
    "                                                                  noise)) \n",
    "    action2_orange_p = perturb(action2_orange_p)\n",
    "    action2_stack = tt.transpose(tt.stack(action2_blue_p, action2_orange_p, [noise*2]))\n",
    "    action2 = pm.Categorical(\"action2\", action2_stack, observed=1, shape=(1)) # blue orange others\n",
    "    \n",
    "    outcome2_p = pm.Deterministic(\"outcome2_p\", tt.eq(world,0)*tt.eq(action2,0) + \\\n",
    "                                  tt.eq(world,0)*tt.eq(action1,0)*tt.neq(action2,0)*delay + \\\n",
    "                                  tt.eq(world,1)*tt.eq(action2,1) + \\\n",
    "                                  tt.eq(world,1)*tt.eq(action1,1)*tt.neq(action2,1)*delay + \\\n",
    "                                  tt.eq(world,2)*tt.eq(action1,0)*tt.eq(action2,1)+ \\\n",
    "                                  tt.eq(world,2)*tt.eq(action1,1)*tt.eq(action2,0)) \n",
    "    outcome2_p = perturb(outcome2_p, noise)\n",
    "    outcome2 = pm.Binomial(\"outcome2\", 1, outcome2_p, observed = 1, shape = (1))\n",
    "    \n",
    "    happy2 = outcome2*desire*(1-noise) + noise*(1-desire)\n",
    "    frustrated2 = (1-outcome2)*desire*(1-noise) + noise*(1-desire)\n",
    "    neutral2 = [1]\n",
    "    emotion_array2 = tt.transpose(tt.stack(happy2, frustrated2, neutral2 ))\n",
    "    expression2 = pm.Categorical(\"expression2\",emotion_array2,observed=2 ) # happy, frustrated, neutral\n",
    "    \n",
    "    draw = 2000 \n",
    "    trace1 = pm.sample(draw, tune=1000, chains=4, return_inferencedata=False)\n",
    "    \n",
    "unique, counts = np.unique(trace1[\"world\"], return_counts=True)\n",
    "worldposterior = sort_category(unique, counts)\n",
    "world_rmse = rmse(worldposterior, worldhuman_noemotion)\n",
    "print(world_rmse)\n",
    "unique, counts = np.unique(trace1[\"belief1\"], return_counts=True)\n",
    "belief1posterior = sort_category(unique, counts)\n",
    "belief_rmse = rmse(belief1posterior, beliefhuman_noemotion)\n",
    "print(belief_rmse)"
   ]
  },
  {
   "cell_type": "markdown",
   "id": "4efc4a22-758b-402d-9684-3056a981d00c",
   "metadata": {},
   "source": [
    "### Summary statistics"
   ]
  },
  {
   "cell_type": "code",
   "execution_count": 12,
   "id": "e12ba781",
   "metadata": {},
   "outputs": [
    {
     "name": "stdout",
     "output_type": "stream",
     "text": [
      "world: {0: 220, 1: 2572, 2: 5208}\n",
      "[0.0275 0.3215 0.651 ]\n",
      "knowledge p: 0.7250887688272029\n",
      "knowledge: 0.771125\n",
      "belief1: {0: 579, 1: 2149, 2: 5272}\n",
      "[0.072375 0.268625 0.659   ]\n",
      "belief2: {0: 579, 1: 2149, 2: 5272}\n",
      "[0.072375 0.268625 0.659   ]\n",
      "desire: 0.6735\n"
     ]
    }
   ],
   "source": [
    "unique, counts = np.unique(trace1[\"world\"], return_counts=True)\n",
    "print(\"world: \" + str(dict(zip(unique, counts))))\n",
    "print(sort_category(unique, counts))\n",
    "\n",
    "print(\"knowledge p: \" + str(np.mean(trace1[\"knowledge_p\"])))\n",
    "unique, counts = np.unique(trace1[\"knowledge\"], return_counts=True)\n",
    "print(\"knowledge: \" + str(np.mean(trace1[\"knowledge\"])))\n",
    "\n",
    "unique, counts = np.unique(trace1[\"belief1\"], return_counts=True)\n",
    "print(\"belief1: \" + str(dict(zip(unique, counts))))\n",
    "print(sort_category(unique, counts))\n",
    "\n",
    "unique, counts = np.unique(trace1[\"belief2\"], return_counts=True)\n",
    "print(\"belief2: \" + str(dict(zip(unique, counts))))\n",
    "print(sort_category(unique, counts))\n",
    "\n",
    "unique, counts = np.unique(trace1[\"desire\"], return_counts=True)\n",
    "print(\"desire: \" + str(np.mean(trace1[\"desire\"])))"
   ]
  },
  {
   "cell_type": "markdown",
   "id": "a9afbe9e-3a5d-42c2-91a0-5240c134278c",
   "metadata": {},
   "source": [
    "### Confidence intervals"
   ]
  },
  {
   "cell_type": "code",
   "execution_count": 51,
   "id": "60350cce",
   "metadata": {},
   "outputs": [
    {
     "name": "stdout",
     "output_type": "stream",
     "text": [
      "world :[array([0.018   , 0.293975, 0.622   ]), array([0.037025, 0.35    , 0.679025])]\n",
      "knowledge :[0.689338574660182, 0.7614024391721229]\n",
      "belief1 :[array([0.057, 0.241, 0.63 ]), array([0.089, 0.298, 0.689])]\n",
      "belief2 :[array([0.057, 0.244, 0.628]), array([0.09 , 0.297, 0.685])]\n",
      "desire :[0.5571428571428572, 0.7857142857142857]\n"
     ]
    }
   ],
   "source": [
    "np.random.seed(123456)\n",
    "print(\"world :\" + str(compute_ci_discrete(flatten(trace1[\"world\"]), HDI = .95, n = 1000, sim = 1000))) #70\n",
    "print(\"knowledge :\" + str(compute_ci_continuous(flatten(trace1[\"knowledge_p\"]), HDI = .95, n = 70, sim = 1000)))\n",
    "print(\"belief1 :\" + str(compute_ci_discrete(flatten(trace1[\"belief1\"]), HDI = .95, n =1000, sim = 1000)))\n",
    "print(\"belief2 :\" + str(compute_ci_discrete(flatten(trace1[\"belief2\"]), HDI = .95, n = 1000, sim = 1000)))\n",
    "print(\"desire :\" + str(compute_ci_continuous(flatten(trace1[\"desire\"]), HDI = .95, n = 70, sim = 1000)))"
   ]
  },
  {
   "cell_type": "code",
   "execution_count": null,
   "id": "efb5f982",
   "metadata": {},
   "outputs": [],
   "source": [
    "az.plot_trace(trace1)"
   ]
  },
  {
   "cell_type": "markdown",
   "id": "621f9e4a-8523-4915-9581-bfb8ff9379dc",
   "metadata": {},
   "source": [
    "## Model (for the condition with emotional displays)"
   ]
  },
  {
   "cell_type": "code",
   "execution_count": 14,
   "id": "cd0c5f46",
   "metadata": {},
   "outputs": [],
   "source": [
    "np.random.seed(123456)"
   ]
  },
  {
   "cell_type": "code",
   "execution_count": 15,
   "id": "a8f8f69b",
   "metadata": {},
   "outputs": [
    {
     "name": "stderr",
     "output_type": "stream",
     "text": [
      "Multiprocess sampling (4 chains in 2 jobs)\n",
      "CompoundStep\n",
      ">CategoricalGibbsMetropolis: [belief2_random, belief1_random, world]\n",
      ">NUTS: [knowledge_p]\n",
      ">CompoundStep\n",
      ">>Metropolis: [desire]\n",
      ">>Metropolis: [knowledge]\n"
     ]
    },
    {
     "data": {
      "text/html": [
       "\n",
       "    <div>\n",
       "        <style>\n",
       "            /* Turns off some styling */\n",
       "            progress {\n",
       "                /* gets rid of default border in Firefox and Opera. */\n",
       "                border: none;\n",
       "                /* Needs to be in here for Safari polyfill so background images work as expected. */\n",
       "                background-size: auto;\n",
       "            }\n",
       "            .progress-bar-interrupted, .progress-bar-interrupted::-webkit-progress-bar {\n",
       "                background: #F44336;\n",
       "            }\n",
       "        </style>\n",
       "      <progress value='12000' class='' max='12000' style='width:300px; height:20px; vertical-align: middle;'></progress>\n",
       "      100.00% [12000/12000 01:01<00:00 Sampling 4 chains, 0 divergences]\n",
       "    </div>\n",
       "    "
      ],
      "text/plain": [
       "<IPython.core.display.HTML object>"
      ]
     },
     "metadata": {},
     "output_type": "display_data"
    },
    {
     "name": "stderr",
     "output_type": "stream",
     "text": [
      "Sampling 4 chains for 1_000 tune and 2_000 draw iterations (4_000 + 8_000 draws total) took 77 seconds.\n",
      "The number of effective samples is smaller than 25% for some parameters.\n"
     ]
    },
    {
     "name": "stdout",
     "output_type": "stream",
     "text": [
      "0.040238991335039054\n",
      "0.01536544169636947\n"
     ]
    }
   ],
   "source": [
    "with pm.Model() as model2:\n",
    "    noise = .15\n",
    "    world = pm.Categorical(\"world\", [human_prior], shape=(1)) # blue, orange, both, others\n",
    "    knowledge_p = pm.Beta(\"knowledge_p\", a, b, shape=(1)) # reliability of the agent's knowledge\n",
    "    knowledge = pm.Binomial(\"knowledge\", 1, knowledge_p, shape=(1))\n",
    "    \n",
    "    belief1_random = pm.Categorical(\"belief1_random\", [1,1,1], shape=(1))\n",
    "    belief1 = pm.Deterministic(\"belief1\", knowledge*world + (1-knowledge)*belief1_random)\n",
    "    \n",
    "    desire = pm.Binomial(\"desire\",1, d, shape=(1)) # bulb=1, others=0\n",
    "\n",
    "    action1_blue_p = pm.Deterministic(\"action1_blue_p\", tt.eq(belief1,0)*desire*(1-noise) + \\\n",
    "                                      # if believe both are needed,\n",
    "                                      tt.eq(belief1,2)*desire*(1-noise) + \\\n",
    "                                      # mistaken action\n",
    "                                      tt.eq(belief1,1)*desire*noise +\\\n",
    "                                      # if desire something else\n",
    "                                      (1-desire)*noise)\n",
    "    action1_blue_p = perturb(action1_blue_p)\n",
    "    \n",
    "    action1_orange_p = pm.Deterministic(\"action1_orange_p\", tt.eq(belief1,1)*desire*(1-noise) + \\\n",
    "                                        # if belief both are needed,\n",
    "                                        tt.eq(belief1,2)*desire*(1-noise) + \\\n",
    "                                        # mistaken action\n",
    "                                        tt.eq(belief1,0)*desire*noise +\\\n",
    "                                        # if desire something else,\n",
    "                                        (1-desire)*noise)\n",
    "    action1_orange_p = perturb(action1_orange_p)\n",
    "    \n",
    "    action1_stack = tt.transpose(tt.stack(action1_blue_p,action1_orange_p,[noise*2]))\n",
    "    action1 = pm.Categorical(\"action1\",action1_stack,observed=0,shape=(1)) # blue orange others\n",
    "    \n",
    "    outcome1_p = pm.Deterministic(\"outcome1_p\", tt.eq(world,0)*tt.eq(action1,0)*(1-delay) + \\\n",
    "                                  tt.eq(world,1)*tt.eq(action1,1)*(1-delay) + \\\n",
    "                                  # if both boxes are required, then outcome will not happen\n",
    "                                  tt.eq(world,2)*0)\n",
    "    outcome1_p = perturb(outcome1_p,noise) # add noise to outcome\n",
    "    \n",
    "    outcome1 = pm.Binomial(\"outcome1\", 1, outcome1_p, observed = 0 , shape = (1))\n",
    "    \n",
    "    happy1 = outcome1*desire*(1-noise) + noise*(1-desire)\n",
    "    # if agent believes both actions are needed, they won't be frustrated at the lack of an outcome\n",
    "    frustrated1 = (1-outcome1)*desire*tt.neq(belief1, 2)*(1-noise) + (1-outcome1)*desire*tt.eq(belief1, 2)*noise + noise*(1-desire)\n",
    "    neutral1 = [1]\n",
    "    emotion_array1 = tt.transpose(tt.stack(happy1, frustrated1, neutral1 ))\n",
    "    expression1 = pm.Categorical(\"expression1\",emotion_array1,observed=1 ) # happy, frustrated, neutral\n",
    "\n",
    "    # if frustrated, agent is likely to revise belief\n",
    "    # else stick to previous belief\n",
    "    belief2_random = pm.Categorical(\"belief2_random\", [1,1,1], shape=(1))\n",
    "    belief2 = pm.Deterministic(\"belief2\", tt.eq(expression1,1)*belief2_random + \\\n",
    "                              tt.neq(expression1,1)*belief1)\n",
    "    \n",
    "    # if outcome has been reached (and agent desired outcome), then likely no action would follow \n",
    "    action2_blue_p = pm.Deterministic(\"action2_blue_p\", tt.switch(tt.eq(outcome1,0)*desire, \\\n",
    "                                                                  tt.eq(belief2,0)*(1-noise) + \\\n",
    "                                                                  # if belief both are needed and orange was pushed previously, then push blue\n",
    "                                                                  tt.eq(belief2,2)*tt.eq(action1,1)*(1-noise)+ \\\n",
    "                                                                  # mistaken action\n",
    "                                                                  tt.eq(belief2,1)*noise,\n",
    "                                                                  # if outcome was reached at t1, no further action required\n",
    "                                                                  noise)) \n",
    "    action2_blue_p = perturb(action2_blue_p)\n",
    "    \n",
    "    # if outcome has been reached (and agent desired outcome), then likely no action would follow \n",
    "    action2_orange_p = pm.Deterministic(\"action2_orange_p\", tt.switch(tt.eq(outcome1,0)*desire, \\\n",
    "                                                                  tt.eq(belief2,1)*(1-noise) + \\\n",
    "                                                                  # if belief both are needed and blue was pushed previously, then push orange \n",
    "                                                                  tt.eq(belief2,2)*tt.eq(action1,0)*(1-noise)+ \\\n",
    "                                                                  # mistaken action\n",
    "                                                                  tt.eq(belief2,0)*noise,\n",
    "                                                                  noise)) \n",
    "    action2_orange_p = perturb(action2_orange_p)\n",
    "    action2_stack = tt.transpose(tt.stack(action2_blue_p, action2_orange_p, [noise*2]))\n",
    "    action2 = pm.Categorical(\"action2\", action2_stack, observed=1, shape=(1)) # blue orange others\n",
    "    \n",
    "    outcome2_p = pm.Deterministic(\"outcome2_p\", tt.eq(world,0)*tt.eq(action2,0) + \\\n",
    "                                  tt.eq(world,0)*tt.eq(action1,0)*tt.neq(action2,0)*delay + \\\n",
    "                                  tt.eq(world,1)*tt.eq(action2,1)+ \\\n",
    "                                  tt.eq(world,1)*tt.eq(action1,1)*tt.neq(action2,1)*delay + \\\n",
    "                                  tt.eq(world,2)*tt.eq(action1,0)*tt.eq(action2,1)+ \\\n",
    "                                  tt.eq(world,2)*tt.eq(action1,1)*tt.eq(action2,0)) \n",
    "    outcome2_p = perturb(outcome2_p, noise)\n",
    "    outcome2 = pm.Binomial(\"outcome2\", 1, outcome2_p, observed = 1, shape = (1))\n",
    "    \n",
    "    happy2 = outcome2*desire*(1-noise) + noise*(1-desire)\n",
    "    frustrated2 = (1-outcome2)*desire*(1-noise) + noise*(1-desire)\n",
    "    neutral2 = [1]\n",
    "    emotion_array2 = tt.transpose(tt.stack(happy2, frustrated2, neutral2 ))\n",
    "    expression2 = pm.Categorical(\"expression2\",emotion_array2,observed=0 ) # happy, frustrated, neutral\n",
    "    \n",
    "    draw = 2000 \n",
    "    trace2 = pm.sample(draw, tune=1000, chains=4, return_inferencedata=False)\n",
    "    \n",
    "unique, counts = np.unique(trace2[\"world\"], return_counts=True)\n",
    "worldposterior = sort_category(unique, counts)\n",
    "world_rmse = rmse(worldposterior, worldhuman_emotion)\n",
    "print(world_rmse)\n",
    "unique, counts = np.unique(trace2[\"belief1\"], return_counts=True)\n",
    "belief1posterior = sort_category(unique, counts)\n",
    "belief_rmse = rmse(belief1posterior, beliefhuman_emotion)\n",
    "print(belief_rmse)"
   ]
  },
  {
   "cell_type": "markdown",
   "id": "4ee55dfd-02d1-4ee1-a5b0-babd916359c9",
   "metadata": {},
   "source": [
    "### Summary statistics"
   ]
  },
  {
   "cell_type": "code",
   "execution_count": 16,
   "id": "11ef830e",
   "metadata": {},
   "outputs": [
    {
     "name": "stdout",
     "output_type": "stream",
     "text": [
      "world: {0: 764, 1: 3489, 2: 3747}\n",
      "[0.0955   0.436125 0.468375]\n",
      "knowledge p: 0.6938197847847518\n",
      "knowledge: 0.527875\n",
      "belief1: {0: 3360, 1: 2236, 2: 2404}\n",
      "[0.42   0.2795 0.3005]\n",
      "belief2: {0: 704, 1: 3475, 2: 3821}\n",
      "[0.088    0.434375 0.477625]\n",
      "desire: 0.96125\n"
     ]
    }
   ],
   "source": [
    "unique, counts = np.unique(trace2[\"world\"], return_counts=True)\n",
    "print(\"world: \" + str(dict(zip(unique, counts))))\n",
    "print(sort_category(unique,counts))\n",
    "print(\"knowledge p: \" + str(np.mean(trace2[\"knowledge_p\"])))\n",
    "print(\"knowledge: \" + str(np.mean(trace2[\"knowledge\"])))\n",
    "unique, counts = np.unique(trace2[\"belief1\"], return_counts=True)\n",
    "print(\"belief1: \" + str(dict(zip(unique, counts))))\n",
    "print(sort_category(unique,counts))\n",
    "unique, counts = np.unique(trace2[\"belief2\"], return_counts=True)\n",
    "print(\"belief2: \" + str(dict(zip(unique, counts))))\n",
    "print(sort_category(unique,counts))\n",
    "unique, counts = np.unique(trace2[\"desire\"], return_counts=True)\n",
    "print(\"desire: \" + str(np.mean(trace2[\"desire\"])))"
   ]
  },
  {
   "cell_type": "markdown",
   "id": "a00e3264-dc44-45da-94b5-9c2f82a39106",
   "metadata": {},
   "source": [
    "### Confidence intervals"
   ]
  },
  {
   "cell_type": "code",
   "execution_count": 50,
   "id": "78ed9a8f",
   "metadata": {},
   "outputs": [
    {
     "name": "stdout",
     "output_type": "stream",
     "text": [
      "world :[array([0.076   , 0.405975, 0.438   ]), array([0.113   , 0.466025, 0.499   ])]\n",
      "knowledge :[0.652382863412051, 0.7343752532197032]\n",
      "belief1 :[array([0.391, 0.253, 0.274]), array([0.449   , 0.306025, 0.328   ])]\n",
      "belief2 :[array([0.071, 0.404, 0.447]), array([0.105   , 0.467025, 0.509   ])]\n",
      "desire :[0.9148305084745767, 1.0]\n"
     ]
    }
   ],
   "source": [
    "np.random.seed(123456)\n",
    "print(\"world :\" + str(compute_ci_discrete(flatten(trace2[\"world\"]), HDI = .95, n = 1000, sim = 1000)))\n",
    "print(\"knowledge :\" + str(compute_ci_continuous(flatten(trace2[\"knowledge_p\"]), HDI = .95, n = 59, sim = 1000)))\n",
    "print(\"belief1 :\" + str(compute_ci_discrete(flatten(trace2[\"belief1\"]), HDI = .95, n = 1000, sim = 1000)))\n",
    "print(\"belief2 :\" + str(compute_ci_discrete(flatten(trace2[\"belief2\"]), HDI = .95, n = 1000, sim = 1000)))\n",
    "print(\"desire :\" + str(compute_ci_continuous(flatten(trace2[\"desire\"]), HDI = .95, n = 59, sim = 1000)))"
   ]
  },
  {
   "cell_type": "code",
   "execution_count": 1,
   "id": "599a6d06",
   "metadata": {},
   "outputs": [
    {
     "ename": "NameError",
     "evalue": "name 'az' is not defined",
     "output_type": "error",
     "traceback": [
      "\u001b[0;31m---------------------------------------------------------------------------\u001b[0m",
      "\u001b[0;31mNameError\u001b[0m                                 Traceback (most recent call last)",
      "\u001b[0;32m/tmp/ipykernel_176/1434841584.py\u001b[0m in \u001b[0;36m<module>\u001b[0;34m\u001b[0m\n\u001b[0;32m----> 1\u001b[0;31m \u001b[0maz\u001b[0m\u001b[0;34m.\u001b[0m\u001b[0mplot_trace\u001b[0m\u001b[0;34m(\u001b[0m\u001b[0mtrace2\u001b[0m\u001b[0;34m)\u001b[0m\u001b[0;34m\u001b[0m\u001b[0;34m\u001b[0m\u001b[0m\n\u001b[0m",
      "\u001b[0;31mNameError\u001b[0m: name 'az' is not defined"
     ]
    }
   ],
   "source": [
    "az.plot_trace(trace2)"
   ]
  },
  {
   "cell_type": "markdown",
   "id": "6c310b5b",
   "metadata": {},
   "source": [
    "# Computational models for tracking study\n",
    "\n",
    "## I/O preprocessing"
   ]
  },
  {
   "cell_type": "code",
   "execution_count": 18,
   "id": "0c301ce2",
   "metadata": {},
   "outputs": [],
   "source": [
    "tracking_data = pd.read_csv('data/ecl_dat_multiple-cause-tracking.csv', encoding=\"ISO-8859-1\")\n",
    "emotion_track = tracking_data.loc[tracking_data['condition'] == 'emotion']\n",
    "noemotion_track = tracking_data.loc[tracking_data['condition'] == 'no-emotion']"
   ]
  },
  {
   "cell_type": "markdown",
   "id": "a5817a65-b465-45de-a439-499a87055747",
   "metadata": {},
   "source": [
    "### Means for causal inference (at various snapshots)"
   ]
  },
  {
   "cell_type": "code",
   "execution_count": 19,
   "id": "65cd2bc1",
   "metadata": {},
   "outputs": [],
   "source": [
    "world1human_emotion_t1 = np.array(emotion_track[\"relation1BlueNorm\"])\n",
    "world2human_emotion_t1 = np.array(emotion_track[\"relation1OrangeNorm\"])\n",
    "world3human_emotion_t1 = np.array(emotion_track[\"relation1OrangeBlueNorm\"])\n",
    "worldhuman_emotion_t1 = sort_category([0,1,2],[np.mean(world1human_emotion_t1),np.mean(world2human_emotion_t1),np.mean(world3human_emotion_t1)])\n",
    "\n",
    "world1human_noemotion_t1 = np.array(noemotion_track[\"relation1BlueNorm\"]) \n",
    "world2human_noemotion_t1 = np.array(noemotion_track[\"relation1OrangeNorm\"]) \n",
    "world3human_noemotion_t1 = np.array(noemotion_track[\"relation1OrangeBlueNorm\"])\n",
    "worldhuman_noemotion_t1 = sort_category([0,1,2],[np.mean(world1human_noemotion_t1),np.mean(world2human_noemotion_t1),np.mean(world3human_noemotion_t1)])"
   ]
  },
  {
   "cell_type": "code",
   "execution_count": 20,
   "id": "16afd69f",
   "metadata": {},
   "outputs": [],
   "source": [
    "world1human_emotion_t2 = np.array(emotion_track[\"relation2BlueNorm\"])\n",
    "world2human_emotion_t2 = np.array(emotion_track[\"relation2OrangeNorm\"])\n",
    "world3human_emotion_t2 = np.array(emotion_track[\"relation2OrangeBlueNorm\"])\n",
    "worldhuman_emotion_t2 = sort_category([0,1,2],[np.mean(world1human_emotion_t2),np.mean(world2human_emotion_t2),np.mean(world3human_emotion_t2)])\n",
    "\n",
    "world1human_noemotion_t2 = np.array(noemotion_track[\"relation2BlueNorm\"]) \n",
    "world2human_noemotion_t2 = np.array(noemotion_track[\"relation2OrangeNorm\"]) \n",
    "world3human_noemotion_t2 = np.array(noemotion_track[\"relation2OrangeBlueNorm\"])\n",
    "worldhuman_noemotion_t2 = sort_category([0,1,2],[np.mean(world1human_noemotion_t2),np.mean(world2human_noemotion_t2),np.mean(world3human_noemotion_t2)])"
   ]
  },
  {
   "cell_type": "code",
   "execution_count": 21,
   "id": "cbc4d5a6",
   "metadata": {},
   "outputs": [],
   "source": [
    "world1human_emotion_t3 = np.array(emotion_track[\"relation3BlueNorm\"])\n",
    "world2human_emotion_t3 = np.array(emotion_track[\"relation3OrangeNorm\"])\n",
    "world3human_emotion_t3 = np.array(emotion_track[\"relation3OrangeBlueNorm\"])\n",
    "worldhuman_emotion_t3 = sort_category([0,1,2],[np.mean(world1human_emotion_t3),np.mean(world2human_emotion_t3),np.mean(world3human_emotion_t3)])\n",
    "\n",
    "world1human_noemotion_t3 = np.array(noemotion_track[\"relation3BlueNorm\"]) \n",
    "world2human_noemotion_t3 = np.array(noemotion_track[\"relation3OrangeNorm\"]) \n",
    "world3human_noemotion_t3 = np.array(noemotion_track[\"relation3OrangeBlueNorm\"])\n",
    "worldhuman_noemotion_t3 = sort_category([0,1,2],[np.mean(world1human_noemotion_t3),np.mean(world2human_noemotion_t3),np.mean(world3human_noemotion_t3)])"
   ]
  },
  {
   "cell_type": "code",
   "execution_count": 22,
   "id": "8e9581a2",
   "metadata": {},
   "outputs": [],
   "source": [
    "world1human_emotion_t4 = np.array(emotion_track[\"relation4BlueNorm\"])\n",
    "world2human_emotion_t4 = np.array(emotion_track[\"relation4OrangeNorm\"])\n",
    "world3human_emotion_t4 = np.array(emotion_track[\"relation4OrangeBlueNorm\"])\n",
    "worldhuman_emotion_t4 = sort_category([0,1,2],[np.mean(world1human_emotion_t4),np.mean(world2human_emotion_t4),np.mean(world3human_emotion_t4)])\n",
    "\n",
    "world1human_noemotion_t4 = np.array(noemotion_track[\"relation4BlueNorm\"]) \n",
    "world2human_noemotion_t4 = np.array(noemotion_track[\"relation4OrangeNorm\"]) \n",
    "world3human_noemotion_t4 = np.array(noemotion_track[\"relation4OrangeBlueNorm\"])\n",
    "worldhuman_noemotion_t4 = sort_category([0,1,2],[np.mean(world1human_noemotion_t4),np.mean(world2human_noemotion_t4),np.mean(world3human_noemotion_t4)])"
   ]
  },
  {
   "cell_type": "code",
   "execution_count": 23,
   "id": "7a8c7aa0",
   "metadata": {},
   "outputs": [],
   "source": [
    "world1human_emotion_t5 = np.array(emotion_track[\"relation5BlueNorm\"])\n",
    "world2human_emotion_t5 = np.array(emotion_track[\"relation5OrangeNorm\"])\n",
    "world3human_emotion_t5 = np.array(emotion_track[\"relation5OrangeBlueNorm\"])\n",
    "worldhuman_emotion_t5 = sort_category([0,1,2],[np.mean(world1human_emotion_t5),np.mean(world2human_emotion_t5),np.mean(world3human_emotion_t5)])\n",
    "\n",
    "world1human_noemotion_t5 = np.array(noemotion_track[\"relation5BlueNorm\"]) \n",
    "world2human_noemotion_t5 = np.array(noemotion_track[\"relation5OrangeNorm\"]) \n",
    "world3human_noemotion_t5 = np.array(noemotion_track[\"relation5OrangeBlueNorm\"])\n",
    "worldhuman_noemotion_t5 = sort_category([0,1,2],[np.mean(world1human_noemotion_t5),np.mean(world2human_noemotion_t5),np.mean(world3human_noemotion_t5)])"
   ]
  },
  {
   "cell_type": "markdown",
   "id": "9cfa929a",
   "metadata": {},
   "source": [
    "## Models (for the condition with no emotional display) across various snapshots"
   ]
  },
  {
   "cell_type": "code",
   "execution_count": 24,
   "id": "0606a823",
   "metadata": {},
   "outputs": [
    {
     "name": "stderr",
     "output_type": "stream",
     "text": [
      "Multiprocess sampling (4 chains in 2 jobs)\n",
      "CompoundStep\n",
      ">CategoricalGibbsMetropolis: [belief1_random, world_prior, world]\n",
      ">NUTS: [knowledge_p]\n",
      ">CompoundStep\n",
      ">>Metropolis: [desire]\n",
      ">>Metropolis: [knowledge]\n"
     ]
    },
    {
     "data": {
      "text/html": [
       "\n",
       "    <div>\n",
       "        <style>\n",
       "            /* Turns off some styling */\n",
       "            progress {\n",
       "                /* gets rid of default border in Firefox and Opera. */\n",
       "                border: none;\n",
       "                /* Needs to be in here for Safari polyfill so background images work as expected. */\n",
       "                background-size: auto;\n",
       "            }\n",
       "            .progress-bar-interrupted, .progress-bar-interrupted::-webkit-progress-bar {\n",
       "                background: #F44336;\n",
       "            }\n",
       "        </style>\n",
       "      <progress value='12000' class='' max='12000' style='width:300px; height:20px; vertical-align: middle;'></progress>\n",
       "      100.00% [12000/12000 00:50<00:00 Sampling 4 chains, 0 divergences]\n",
       "    </div>\n",
       "    "
      ],
      "text/plain": [
       "<IPython.core.display.HTML object>"
      ]
     },
     "metadata": {},
     "output_type": "display_data"
    },
    {
     "name": "stderr",
     "output_type": "stream",
     "text": [
      "Sampling 4 chains for 1_000 tune and 2_000 draw iterations (4_000 + 8_000 draws total) took 66 seconds.\n",
      "The number of effective samples is smaller than 25% for some parameters.\n"
     ]
    },
    {
     "name": "stdout",
     "output_type": "stream",
     "text": [
      "0.01131712625682042\n",
      "0.022070127365948794\n"
     ]
    }
   ],
   "source": [
    "np.random.seed(123456)\n",
    "with pm.Model() as model1ab:\n",
    "    noise = .25\n",
    "    world = pm.Categorical(\"world\", [human_prior], shape=(1)) # blue, orange, both, others\n",
    "    world_prior = pm.Categorical(\"world_prior\", [human_prior], shape=(1)) # blue, orange, both, others\n",
    "    knowledge_p = pm.Beta(\"knowledge_p\", a, b, shape=(1)) # reliability of the agent's knowledge\n",
    "    knowledge = pm.Binomial(\"knowledge\", 1, knowledge_p, shape=(1))\n",
    "    \n",
    "    belief1_random = pm.Categorical(\"belief1_random\", [1,1,1], shape=(1))\n",
    "    belief1 = pm.Deterministic(\"belief1\", knowledge*world + (1-knowledge)*belief1_random)\n",
    "    \n",
    "    desire = pm.Binomial(\"desire\",1, d, shape=(1)) # bulb=1, others=0\n",
    "\n",
    "    action1_blue_p = pm.Deterministic(\"action1_blue_p\", tt.eq(belief1,0)*desire*(1-noise) + \\\n",
    "                                      # if believe both are needed,\n",
    "                                      tt.eq(belief1,2)*desire*(1-noise) + \\\n",
    "                                      # mistaken action\n",
    "                                      tt.eq(belief1,1)*desire*noise +\\\n",
    "                                      # if desire something else\n",
    "                                      (1-desire)*noise)\n",
    "    action1_blue_p = perturb(action1_blue_p)\n",
    "    \n",
    "    action1_orange_p = pm.Deterministic(\"action1_orange_p\", tt.eq(belief1,1)*desire*(1-noise) + \\\n",
    "                                        # if belief both are needed,\n",
    "                                        tt.eq(belief1,2)*desire*(1-noise) + \\\n",
    "                                        # mistaken action\n",
    "                                        tt.eq(belief1,0)*desire*noise +\\\n",
    "                                        # if desire something else,\n",
    "                                        (1-desire)*noise)\n",
    "    action1_orange_p = perturb(action1_orange_p)\n",
    "    \n",
    "    action1_stack = tt.transpose(tt.stack(action1_blue_p,action1_orange_p,[noise*2]))\n",
    "    action1 = pm.Categorical(\"action1\",action1_stack,observed=0,shape=(1)) # blue orange others\n",
    "    \n",
    "    draw = 2000 \n",
    "    trace1ab = pm.sample(draw, tune=1000, chains=4, return_inferencedata=False)\n",
    "    \n",
    "unique, counts = np.unique(trace1ab[\"world_prior\"], return_counts=True)\n",
    "worldposterior_t1 = sort_category(unique, counts)\n",
    "rmse_output_t1 = rmse(worldposterior_t1, worldhuman_noemotion_t1)\n",
    "print(rmse_output_t1)\n",
    "unique, counts = np.unique(trace1ab[\"world\"], return_counts=True)\n",
    "worldposterior_t2 = sort_category(unique, counts)\n",
    "rmse_output_t2 = rmse(worldposterior_t2, worldhuman_noemotion_t2)\n",
    "print(rmse_output_t2)"
   ]
  },
  {
   "cell_type": "code",
   "execution_count": 25,
   "id": "802c2144",
   "metadata": {},
   "outputs": [
    {
     "name": "stderr",
     "output_type": "stream",
     "text": [
      "Multiprocess sampling (4 chains in 2 jobs)\n",
      "CompoundStep\n",
      ">CategoricalGibbsMetropolis: [belief2_random, belief1_random, world]\n",
      ">NUTS: [knowledge_p]\n",
      ">CompoundStep\n",
      ">>Metropolis: [desire]\n",
      ">>Metropolis: [knowledge]\n"
     ]
    },
    {
     "data": {
      "text/html": [
       "\n",
       "    <div>\n",
       "        <style>\n",
       "            /* Turns off some styling */\n",
       "            progress {\n",
       "                /* gets rid of default border in Firefox and Opera. */\n",
       "                border: none;\n",
       "                /* Needs to be in here for Safari polyfill so background images work as expected. */\n",
       "                background-size: auto;\n",
       "            }\n",
       "            .progress-bar-interrupted, .progress-bar-interrupted::-webkit-progress-bar {\n",
       "                background: #F44336;\n",
       "            }\n",
       "        </style>\n",
       "      <progress value='12000' class='' max='12000' style='width:300px; height:20px; vertical-align: middle;'></progress>\n",
       "      100.00% [12000/12000 00:53<00:00 Sampling 4 chains, 0 divergences]\n",
       "    </div>\n",
       "    "
      ],
      "text/plain": [
       "<IPython.core.display.HTML object>"
      ]
     },
     "metadata": {},
     "output_type": "display_data"
    },
    {
     "name": "stderr",
     "output_type": "stream",
     "text": [
      "Sampling 4 chains for 1_000 tune and 2_000 draw iterations (4_000 + 8_000 draws total) took 69 seconds.\n",
      "The number of effective samples is smaller than 25% for some parameters.\n"
     ]
    },
    {
     "name": "stdout",
     "output_type": "stream",
     "text": [
      "0.1794069406318001\n"
     ]
    }
   ],
   "source": [
    "np.random.seed(123456)\n",
    "with pm.Model() as model1c:\n",
    "    noise = .25\n",
    "    world = pm.Categorical(\"world\", [human_prior], shape=(1)) # blue, orange, both, others\n",
    "    knowledge_p = pm.Beta(\"knowledge_p\", a, b, shape=(1)) # reliability of the agent's knowledge\n",
    "    knowledge = pm.Binomial(\"knowledge\", 1, knowledge_p, shape=(1))\n",
    "    \n",
    "    belief1_random = pm.Categorical(\"belief1_random\", [1,1,1], shape=(1))\n",
    "    belief1 = pm.Deterministic(\"belief1\", knowledge*world + (1-knowledge)*belief1_random)\n",
    "    \n",
    "    desire = pm.Binomial(\"desire\",1, d, shape=(1)) # bulb=1, others=0\n",
    "\n",
    "    action1_blue_p = pm.Deterministic(\"action1_blue_p\", tt.eq(belief1,0)*desire*(1-noise) + \\\n",
    "                                      # if believe both are needed,\n",
    "                                      tt.eq(belief1,2)*desire*(1-noise) + \\\n",
    "                                      # mistaken action\n",
    "                                      tt.eq(belief1,1)*desire*noise +\\\n",
    "                                      # if desire something else\n",
    "                                      (1-desire)*noise)\n",
    "    action1_blue_p = perturb(action1_blue_p)\n",
    "    \n",
    "    action1_orange_p = pm.Deterministic(\"action1_orange_p\", tt.eq(belief1,1)*desire*(1-noise) + \\\n",
    "                                        # if belief both are needed,\n",
    "                                        tt.eq(belief1,2)*desire*(1-noise) + \\\n",
    "                                        # mistaken action\n",
    "                                        tt.eq(belief1,0)*desire*noise +\\\n",
    "                                        # if desire something else,\n",
    "                                        (1-desire)*noise)\n",
    "    action1_orange_p = perturb(action1_orange_p)\n",
    "    \n",
    "    action1_stack = tt.transpose(tt.stack(action1_blue_p,action1_orange_p,[noise*2]))\n",
    "    action1 = pm.Categorical(\"action1\",action1_stack,observed=0,shape=(1)) # blue orange others\n",
    "    \n",
    "    outcome1_p = pm.Deterministic(\"outcome1_p\", tt.eq(world,0)*tt.eq(action1,0)*(1-delay) + \\\n",
    "                                  tt.eq(world,1)*tt.eq(action1,1)*(1-delay) + \\\n",
    "                                  # if both boxes are required, then outcome will not happen\n",
    "                                  tt.eq(world,2)*0)\n",
    "    outcome1_p = perturb(outcome1_p,noise) # add noise to outcome\n",
    "    \n",
    "    outcome1 = pm.Binomial(\"outcome1\", 1, outcome1_p, observed = 0 , shape = (1))\n",
    "    \n",
    "    happy1 = outcome1*desire*(1-noise) + noise*(1-desire)\n",
    "    # if agent believes both actions are needed, they won't be frustrated at the lack of an outcome\n",
    "    frustrated1 = (1-outcome1)*desire*tt.neq(belief1, 2)*(1-noise) + (1-outcome1)*desire*tt.eq(belief1, 2)*noise + noise*(1-desire)\n",
    "    neutral1 = [1]\n",
    "    emotion_array1 = tt.transpose(tt.stack(happy1, frustrated1, neutral1 ))\n",
    "    expression1 = pm.Categorical(\"expression1\",emotion_array1,observed=2 ) # happy, frustrated, neutral\n",
    "\n",
    "    # if frustrated, agent is likely to revise belief\n",
    "    # else stick to previous belief\n",
    "    belief2_random = pm.Categorical(\"belief2_random\", [1,1,1], shape=(1))\n",
    "    belief2 = pm.Deterministic(\"belief2\", tt.eq(expression1,1)*belief2_random + \\\n",
    "                              tt.neq(expression1,1)*belief1)\n",
    "    \n",
    "    draw = 2000 \n",
    "    trace1c = pm.sample(draw, tune=1000, chains=4, return_inferencedata=False)\n",
    "    \n",
    "unique, counts = np.unique(trace1c[\"world\"], return_counts=True)\n",
    "worldposterior_t3 = sort_category(unique, counts)\n",
    "rmse_output_t3 = rmse(worldposterior_t3, worldhuman_noemotion_t3)\n",
    "print(rmse_output_t3)"
   ]
  },
  {
   "cell_type": "code",
   "execution_count": 26,
   "id": "0e7ee567",
   "metadata": {},
   "outputs": [
    {
     "name": "stderr",
     "output_type": "stream",
     "text": [
      "Multiprocess sampling (4 chains in 2 jobs)\n",
      "CompoundStep\n",
      ">CategoricalGibbsMetropolis: [belief2_random, belief1_random, world]\n",
      ">NUTS: [knowledge_p]\n",
      ">CompoundStep\n",
      ">>Metropolis: [desire]\n",
      ">>Metropolis: [knowledge]\n"
     ]
    },
    {
     "data": {
      "text/html": [
       "\n",
       "    <div>\n",
       "        <style>\n",
       "            /* Turns off some styling */\n",
       "            progress {\n",
       "                /* gets rid of default border in Firefox and Opera. */\n",
       "                border: none;\n",
       "                /* Needs to be in here for Safari polyfill so background images work as expected. */\n",
       "                background-size: auto;\n",
       "            }\n",
       "            .progress-bar-interrupted, .progress-bar-interrupted::-webkit-progress-bar {\n",
       "                background: #F44336;\n",
       "            }\n",
       "        </style>\n",
       "      <progress value='12000' class='' max='12000' style='width:300px; height:20px; vertical-align: middle;'></progress>\n",
       "      100.00% [12000/12000 00:59<00:00 Sampling 4 chains, 0 divergences]\n",
       "    </div>\n",
       "    "
      ],
      "text/plain": [
       "<IPython.core.display.HTML object>"
      ]
     },
     "metadata": {},
     "output_type": "display_data"
    },
    {
     "name": "stderr",
     "output_type": "stream",
     "text": [
      "Sampling 4 chains for 1_000 tune and 2_000 draw iterations (4_000 + 8_000 draws total) took 75 seconds.\n",
      "The number of effective samples is smaller than 25% for some parameters.\n"
     ]
    },
    {
     "name": "stdout",
     "output_type": "stream",
     "text": [
      "0.17317066054708688\n",
      "0.09987023023380058\n"
     ]
    }
   ],
   "source": [
    "np.random.seed(123456)\n",
    "with pm.Model() as model1d:\n",
    "    noise = .25\n",
    "    world = pm.Categorical(\"world\", [human_prior], shape=(1)) # blue, orange, both, others\n",
    "    knowledge_p = pm.Beta(\"knowledge_p\", a, b, shape=(1)) # reliability of the agent's knowledge\n",
    "    knowledge = pm.Binomial(\"knowledge\", 1, knowledge_p, shape=(1))\n",
    "    \n",
    "    belief1_random = pm.Categorical(\"belief1_random\", [1,1,1], shape=(1))\n",
    "    belief1 = pm.Deterministic(\"belief1\", knowledge*world + (1-knowledge)*belief1_random)\n",
    "    \n",
    "    desire = pm.Binomial(\"desire\",1, d, shape=(1)) # bulb=1, others=0\n",
    "\n",
    "    action1_blue_p = pm.Deterministic(\"action1_blue_p\", tt.eq(belief1,0)*desire*(1-noise) + \\\n",
    "                                      # if believe both are needed,\n",
    "                                      tt.eq(belief1,2)*desire*(1-noise) + \\\n",
    "                                      # mistaken action\n",
    "                                      tt.eq(belief1,1)*desire*noise +\\\n",
    "                                      # if desire something else\n",
    "                                      (1-desire)*noise)\n",
    "    action1_blue_p = perturb(action1_blue_p)\n",
    "    \n",
    "    action1_orange_p = pm.Deterministic(\"action1_orange_p\", tt.eq(belief1,1)*desire*(1-noise) + \\\n",
    "                                        # if belief both are needed,\n",
    "                                        tt.eq(belief1,2)*desire*(1-noise) + \\\n",
    "                                        # mistaken action\n",
    "                                        tt.eq(belief1,0)*desire*noise +\\\n",
    "                                        # if desire something else,\n",
    "                                        (1-desire)*noise)\n",
    "    action1_orange_p = perturb(action1_orange_p)\n",
    "    \n",
    "    action1_stack = tt.transpose(tt.stack(action1_blue_p,action1_orange_p,[noise*2]))\n",
    "    action1 = pm.Categorical(\"action1\",action1_stack,observed=0,shape=(1)) # blue orange others\n",
    "    \n",
    "    outcome1_p = pm.Deterministic(\"outcome1_p\", tt.eq(world,0)*tt.eq(action1,0)*(1-delay) + \\\n",
    "                                  tt.eq(world,1)*tt.eq(action1,1)*(1-delay) + \\\n",
    "                                  # if both boxes are required, then outcome will not happen\n",
    "                                  tt.eq(world,2)*0)\n",
    "    outcome1_p = perturb(outcome1_p,noise) # add noise to outcome\n",
    "    \n",
    "    outcome1 = pm.Binomial(\"outcome1\", 1, outcome1_p, observed = 0 , shape = (1))\n",
    "    \n",
    "    happy1 = outcome1*desire*(1-noise) + noise*(1-desire)\n",
    "    # if agent believes both actions are needed, they won't be frustrated at the lack of an outcome\n",
    "    frustrated1 = (1-outcome1)*desire*tt.neq(belief1, 2)*(1-noise) + (1-outcome1)*desire*tt.eq(belief1, 2)*noise + noise*(1-desire)\n",
    "    neutral1 = [1]\n",
    "    emotion_array1 = tt.transpose(tt.stack(happy1, frustrated1, neutral1 ))\n",
    "    expression1 = pm.Categorical(\"expression1\",emotion_array1,observed=2 ) # happy, frustrated, neutral\n",
    "\n",
    "    # if frustrated, agent is likely to revise belief\n",
    "    # else stick to previous belief\n",
    "    belief2_random = pm.Categorical(\"belief2_random\", [1,1,1], shape=(1))\n",
    "    belief2 = pm.Deterministic(\"belief2\", tt.eq(expression1,1)*belief2_random + \\\n",
    "                              tt.neq(expression1,1)*belief1)\n",
    "    \n",
    "    # if outcome has been reached (and agent desired outcome), then likely no action would follow \n",
    "    action2_blue_p = pm.Deterministic(\"action2_blue_p\", tt.switch(tt.eq(outcome1,0)*desire, \\\n",
    "                                                                  tt.eq(belief2,0)*(1-noise) + \\\n",
    "                                                                  # if belief both are needed and orange was pushed previously, then push blue\n",
    "                                                                  tt.eq(belief2,2)*tt.eq(action1,1)*(1-noise)+ \\\n",
    "                                                                  # mistaken action\n",
    "                                                                  tt.eq(belief2,1)*noise,\n",
    "                                                                  # if outcome was reached at t1, no further action required\n",
    "                                                                  noise)) \n",
    "    action2_blue_p = perturb(action2_blue_p)\n",
    "    \n",
    "    # if outcome has been reached (and agent desired outcome), then likely no action would follow \n",
    "    action2_orange_p = pm.Deterministic(\"action2_orange_p\", tt.switch(tt.eq(outcome1,0)*desire, \\\n",
    "                                                                  tt.eq(belief2,1)*(1-noise) + \\\n",
    "                                                                  # if belief both are needed and blue was pushed previously, then push orange \n",
    "                                                                  tt.eq(belief2,2)*tt.eq(action1,0)*(1-noise)+ \\\n",
    "                                                                  # mistaken action\n",
    "                                                                  tt.eq(belief2,0)*noise,\n",
    "                                                                  noise)) \n",
    "    action2_orange_p = perturb(action2_orange_p)\n",
    "    action2_stack = tt.transpose(tt.stack(action2_blue_p, action2_orange_p, [noise*2]))\n",
    "    action2 = pm.Categorical(\"action2\", action2_stack, observed=1, shape=(1)) # blue orange others\n",
    "    \n",
    "    draw = 2000 \n",
    "    trace1d = pm.sample(draw, tune=1000, chains=4, return_inferencedata=False)\n",
    "    \n",
    "unique, counts = np.unique(trace1d[\"world\"], return_counts=True)\n",
    "worldposterior_t4 = sort_category(unique, counts)\n",
    "rmse_output_t4 = rmse(worldposterior_t4, worldhuman_noemotion_t4)\n",
    "print(rmse_output_t4)\n",
    "unique, counts = np.unique(trace1[\"world\"], return_counts=True)\n",
    "worldposterior_t5 = sort_category(unique, counts)\n",
    "rmse_output_t5 = rmse(worldposterior_t5, worldhuman_noemotion_t5)\n",
    "print(rmse_output_t5)"
   ]
  },
  {
   "cell_type": "markdown",
   "id": "531a762f-e205-4663-98aa-c0518f129e7f",
   "metadata": {},
   "source": [
    "### Summary statistics"
   ]
  },
  {
   "cell_type": "code",
   "execution_count": 27,
   "id": "d62cdc1e",
   "metadata": {},
   "outputs": [
    {
     "name": "stdout",
     "output_type": "stream",
     "text": [
      "world t1: {0: 3008, 1: 2481, 2: 2511}\n",
      "[0.376    0.310125 0.313875]\n"
     ]
    }
   ],
   "source": [
    "unique, counts = np.unique(trace1ab[\"world_prior\"], return_counts=True)\n",
    "print(\"world t1: \" + str(dict(zip(unique, counts))))\n",
    "print(sort_category(unique, counts))"
   ]
  },
  {
   "cell_type": "code",
   "execution_count": 28,
   "id": "1faf207e",
   "metadata": {},
   "outputs": [
    {
     "name": "stdout",
     "output_type": "stream",
     "text": [
      "world t1 :[array([0.347, 0.283, 0.285]), array([0.406, 0.336, 0.343])]\n"
     ]
    }
   ],
   "source": [
    "np.random.seed(123456)\n",
    "print(\"world t1 :\" + str(compute_ci_discrete(flatten(trace1ab[\"world_prior\"]), HDI = .95, n = 1000, sim = 1000)))"
   ]
  },
  {
   "cell_type": "code",
   "execution_count": 29,
   "id": "59a29f7c",
   "metadata": {},
   "outputs": [
    {
     "name": "stdout",
     "output_type": "stream",
     "text": [
      "world t2: {0: 3586, 1: 1841, 2: 2573}\n",
      "[0.44825  0.230125 0.321625]\n"
     ]
    }
   ],
   "source": [
    "unique, counts = np.unique(trace1ab[\"world\"], return_counts=True)\n",
    "print(\"world t2: \" + str(dict(zip(unique, counts))))\n",
    "print(sort_category(unique, counts))"
   ]
  },
  {
   "cell_type": "code",
   "execution_count": 30,
   "id": "cb981183",
   "metadata": {},
   "outputs": [
    {
     "name": "stdout",
     "output_type": "stream",
     "text": [
      "world t2 :[array([0.417975, 0.205   , 0.292   ]), array([0.479, 0.255, 0.352])]\n"
     ]
    }
   ],
   "source": [
    "np.random.seed(123456)\n",
    "print(\"world t2 :\" + str(compute_ci_discrete(flatten(trace1ab[\"world\"]), HDI = .95, n = 1000, sim = 1000)))"
   ]
  },
  {
   "cell_type": "code",
   "execution_count": 31,
   "id": "3128e8ab",
   "metadata": {},
   "outputs": [
    {
     "name": "stdout",
     "output_type": "stream",
     "text": [
      "world t3: {0: 1222, 1: 2742, 2: 4036}\n",
      "[0.15275 0.34275 0.5045 ]\n"
     ]
    }
   ],
   "source": [
    "unique, counts = np.unique(trace1c[\"world\"], return_counts=True)\n",
    "print(\"world t3: \" + str(dict(zip(unique, counts))))\n",
    "print(sort_category(unique, counts))"
   ]
  },
  {
   "cell_type": "code",
   "execution_count": 32,
   "id": "f187561f",
   "metadata": {},
   "outputs": [
    {
     "name": "stdout",
     "output_type": "stream",
     "text": [
      "world t3 :[array([0.13 , 0.312, 0.475]), array([0.177, 0.372, 0.539])]\n"
     ]
    }
   ],
   "source": [
    "np.random.seed(123456)\n",
    "print(\"world t3 :\" + str(compute_ci_discrete(flatten(trace1c[\"world\"]), HDI = .95, n = 1000, sim = 1000)))"
   ]
  },
  {
   "cell_type": "code",
   "execution_count": 33,
   "id": "2ddd95dd",
   "metadata": {},
   "outputs": [
    {
     "name": "stdout",
     "output_type": "stream",
     "text": [
      "world t4: {0: 785, 1: 2435, 2: 4780}\n",
      "[0.098125 0.304375 0.5975  ]\n"
     ]
    }
   ],
   "source": [
    "unique, counts = np.unique(trace1d[\"world\"], return_counts=True)\n",
    "print(\"world t4: \" + str(dict(zip(unique, counts))))\n",
    "print(sort_category(unique, counts))"
   ]
  },
  {
   "cell_type": "code",
   "execution_count": 34,
   "id": "c4651484",
   "metadata": {},
   "outputs": [
    {
     "name": "stdout",
     "output_type": "stream",
     "text": [
      "world t4 :[array([0.079, 0.275, 0.566]), array([0.117, 0.334, 0.629])]\n"
     ]
    }
   ],
   "source": [
    "np.random.seed(123456)\n",
    "print(\"world t4 :\" + str(compute_ci_discrete(flatten(trace1d[\"world\"]), HDI = .95, n = 1000, sim = 1000)))"
   ]
  },
  {
   "cell_type": "code",
   "execution_count": 35,
   "id": "08011e0b",
   "metadata": {},
   "outputs": [
    {
     "name": "stdout",
     "output_type": "stream",
     "text": [
      "world t5: {0: 220, 1: 2572, 2: 5208}\n",
      "[0.0275 0.3215 0.651 ]\n"
     ]
    }
   ],
   "source": [
    "unique, counts = np.unique(trace1[\"world\"], return_counts=True)\n",
    "print(\"world t5: \" + str(dict(zip(unique, counts))))\n",
    "print(sort_category(unique, counts))"
   ]
  },
  {
   "cell_type": "code",
   "execution_count": 36,
   "id": "85434b0c",
   "metadata": {},
   "outputs": [
    {
     "name": "stdout",
     "output_type": "stream",
     "text": [
      "world t5 :[array([0.018   , 0.293975, 0.622   ]), array([0.037025, 0.35    , 0.679025])]\n"
     ]
    }
   ],
   "source": [
    "np.random.seed(123456)\n",
    "print(\"world t5 :\" + str(compute_ci_discrete(flatten(trace1[\"world\"]), HDI = .95, n = 1000, sim = 1000)))"
   ]
  },
  {
   "cell_type": "markdown",
   "id": "38638d97",
   "metadata": {},
   "source": [
    "## Models (for the condition with emotional displays) across various snapshots"
   ]
  },
  {
   "cell_type": "code",
   "execution_count": 37,
   "id": "a861f640",
   "metadata": {},
   "outputs": [
    {
     "name": "stderr",
     "output_type": "stream",
     "text": [
      "Multiprocess sampling (4 chains in 2 jobs)\n",
      "CompoundStep\n",
      ">CategoricalGibbsMetropolis: [belief1_random, world_prior, world]\n",
      ">NUTS: [knowledge_p]\n",
      ">CompoundStep\n",
      ">>Metropolis: [desire]\n",
      ">>Metropolis: [knowledge]\n"
     ]
    },
    {
     "data": {
      "text/html": [
       "\n",
       "    <div>\n",
       "        <style>\n",
       "            /* Turns off some styling */\n",
       "            progress {\n",
       "                /* gets rid of default border in Firefox and Opera. */\n",
       "                border: none;\n",
       "                /* Needs to be in here for Safari polyfill so background images work as expected. */\n",
       "                background-size: auto;\n",
       "            }\n",
       "            .progress-bar-interrupted, .progress-bar-interrupted::-webkit-progress-bar {\n",
       "                background: #F44336;\n",
       "            }\n",
       "        </style>\n",
       "      <progress value='12000' class='' max='12000' style='width:300px; height:20px; vertical-align: middle;'></progress>\n",
       "      100.00% [12000/12000 00:59<00:00 Sampling 4 chains, 0 divergences]\n",
       "    </div>\n",
       "    "
      ],
      "text/plain": [
       "<IPython.core.display.HTML object>"
      ]
     },
     "metadata": {},
     "output_type": "display_data"
    },
    {
     "name": "stderr",
     "output_type": "stream",
     "text": [
      "Sampling 4 chains for 1_000 tune and 2_000 draw iterations (4_000 + 8_000 draws total) took 82 seconds.\n",
      "The acceptance probability does not match the target. It is 0.7181823987196119, but should be close to 0.8. Try to increase the number of tuning steps.\n",
      "The number of effective samples is smaller than 25% for some parameters.\n"
     ]
    },
    {
     "name": "stdout",
     "output_type": "stream",
     "text": [
      "0.003390022173440893\n",
      "0.02173327744262479\n"
     ]
    }
   ],
   "source": [
    "np.random.seed(123456)\n",
    "with pm.Model() as model2ab:\n",
    "    noise = .15\n",
    "    world = pm.Categorical(\"world\", [human_prior], shape=(1)) # blue, orange, both, others\n",
    "    world_prior = pm.Categorical(\"world_prior\", [human_prior], shape=(1)) # blue, orange, both, others\n",
    "    knowledge_p = pm.Beta(\"knowledge_p\", a, b, shape=(1)) # reliability of the agent's knowledge\n",
    "    knowledge = pm.Binomial(\"knowledge\", 1, knowledge_p, shape=(1))\n",
    "    \n",
    "    belief1_random = pm.Categorical(\"belief1_random\", [1,1,1], shape=(1))\n",
    "    belief1 = pm.Deterministic(\"belief1\", knowledge*world + (1-knowledge)*belief1_random)\n",
    "    \n",
    "    desire = pm.Binomial(\"desire\",1, d, shape=(1)) # bulb=1, others=0\n",
    "\n",
    "    action1_blue_p = pm.Deterministic(\"action1_blue_p\", tt.eq(belief1,0)*desire*(1-noise) + \\\n",
    "                                      # if believe both are needed,\n",
    "                                      tt.eq(belief1,2)*desire*(1-noise) + \\\n",
    "                                      # mistaken action\n",
    "                                      tt.eq(belief1,1)*desire*noise +\\\n",
    "                                      # if desire something else\n",
    "                                      (1-desire)*noise)\n",
    "    action1_blue_p = perturb(action1_blue_p)\n",
    "    \n",
    "    action1_orange_p = pm.Deterministic(\"action1_orange_p\", tt.eq(belief1,1)*desire*(1-noise) + \\\n",
    "                                        # if belief both are needed,\n",
    "                                        tt.eq(belief1,2)*desire*(1-noise) + \\\n",
    "                                        # mistaken action\n",
    "                                        tt.eq(belief1,0)*desire*noise +\\\n",
    "                                        # if desire something else,\n",
    "                                        (1-desire)*noise)\n",
    "    action1_orange_p = perturb(action1_orange_p)\n",
    "    \n",
    "    action1_stack = tt.transpose(tt.stack(action1_blue_p,action1_orange_p,[noise*2]))\n",
    "    action1 = pm.Categorical(\"action1\",action1_stack,observed=0,shape=(1)) # blue orange others\n",
    "    \n",
    "    draw = 2000 \n",
    "    trace2ab = pm.sample(draw, tune=1000, chains=4, return_inferencedata=False)\n",
    "\n",
    "unique, counts = np.unique(trace2ab[\"world_prior\"], return_counts=True)\n",
    "worldposterior_t1 = sort_category(unique, counts)\n",
    "rmse_output_t1 = rmse(worldposterior_t1, worldhuman_emotion_t1)\n",
    "print(rmse_output_t1)\n",
    "unique, counts = np.unique(trace2ab[\"world\"], return_counts=True)\n",
    "worldposterior_t2 = sort_category(unique, counts)\n",
    "rmse_output_t2 = rmse(worldposterior_t2, worldhuman_emotion_t2)\n",
    "print(rmse_output_t2)"
   ]
  },
  {
   "cell_type": "code",
   "execution_count": 38,
   "id": "b63460f0",
   "metadata": {},
   "outputs": [
    {
     "name": "stderr",
     "output_type": "stream",
     "text": [
      "Multiprocess sampling (4 chains in 2 jobs)\n",
      "CompoundStep\n",
      ">CategoricalGibbsMetropolis: [belief2_random, belief1_random, world]\n",
      ">NUTS: [knowledge_p]\n",
      ">CompoundStep\n",
      ">>Metropolis: [desire]\n",
      ">>Metropolis: [knowledge]\n"
     ]
    },
    {
     "data": {
      "text/html": [
       "\n",
       "    <div>\n",
       "        <style>\n",
       "            /* Turns off some styling */\n",
       "            progress {\n",
       "                /* gets rid of default border in Firefox and Opera. */\n",
       "                border: none;\n",
       "                /* Needs to be in here for Safari polyfill so background images work as expected. */\n",
       "                background-size: auto;\n",
       "            }\n",
       "            .progress-bar-interrupted, .progress-bar-interrupted::-webkit-progress-bar {\n",
       "                background: #F44336;\n",
       "            }\n",
       "        </style>\n",
       "      <progress value='12000' class='' max='12000' style='width:300px; height:20px; vertical-align: middle;'></progress>\n",
       "      100.00% [12000/12000 00:56<00:00 Sampling 4 chains, 0 divergences]\n",
       "    </div>\n",
       "    "
      ],
      "text/plain": [
       "<IPython.core.display.HTML object>"
      ]
     },
     "metadata": {},
     "output_type": "display_data"
    },
    {
     "name": "stderr",
     "output_type": "stream",
     "text": [
      "Sampling 4 chains for 1_000 tune and 2_000 draw iterations (4_000 + 8_000 draws total) took 73 seconds.\n",
      "The number of effective samples is smaller than 25% for some parameters.\n"
     ]
    },
    {
     "name": "stdout",
     "output_type": "stream",
     "text": [
      "0.045049493459074115\n"
     ]
    }
   ],
   "source": [
    "np.random.seed(123456)\n",
    "with pm.Model() as model2c:\n",
    "    noise = .15\n",
    "    world = pm.Categorical(\"world\", [human_prior], shape=(1)) # blue, orange, both, others\n",
    "    knowledge_p = pm.Beta(\"knowledge_p\", a, b, shape=(1)) # reliability of the agent's knowledge\n",
    "    knowledge = pm.Binomial(\"knowledge\", 1, knowledge_p, shape=(1))\n",
    "    \n",
    "    belief1_random = pm.Categorical(\"belief1_random\", [1,1,1], shape=(1))\n",
    "    belief1 = pm.Deterministic(\"belief1\", knowledge*world + (1-knowledge)*belief1_random)\n",
    "    \n",
    "    desire = pm.Binomial(\"desire\",1, d, shape=(1)) # bulb=1, others=0\n",
    "\n",
    "    action1_blue_p = pm.Deterministic(\"action1_blue_p\", tt.eq(belief1,0)*desire*(1-noise) + \\\n",
    "                                      # if believe both are needed,\n",
    "                                      tt.eq(belief1,2)*desire*(1-noise) + \\\n",
    "                                      # mistaken action\n",
    "                                      tt.eq(belief1,1)*desire*noise +\\\n",
    "                                      # if desire something else\n",
    "                                      (1-desire)*noise)\n",
    "    action1_blue_p = perturb(action1_blue_p)\n",
    "    \n",
    "    action1_orange_p = pm.Deterministic(\"action1_orange_p\", tt.eq(belief1,1)*desire*(1-noise) + \\\n",
    "                                        # if belief both are needed,\n",
    "                                        tt.eq(belief1,2)*desire*(1-noise) + \\\n",
    "                                        # mistaken action\n",
    "                                        tt.eq(belief1,0)*desire*noise +\\\n",
    "                                        # if desire something else,\n",
    "                                        (1-desire)*noise)\n",
    "    action1_orange_p = perturb(action1_orange_p)\n",
    "    \n",
    "    action1_stack = tt.transpose(tt.stack(action1_blue_p,action1_orange_p,[noise*2]))\n",
    "    action1 = pm.Categorical(\"action1\",action1_stack,observed=0,shape=(1)) # blue orange others\n",
    "    \n",
    "    outcome1_p = pm.Deterministic(\"outcome1_p\", tt.eq(world,0)*tt.eq(action1,0)*(1-delay) + \\\n",
    "                                  tt.eq(world,1)*tt.eq(action1,1)*(1-delay) + \\\n",
    "                                  # if both boxes are required, then outcome will not happen\n",
    "                                  tt.eq(world,2)*0)\n",
    "    outcome1_p = perturb(outcome1_p,noise) # add noise to outcome\n",
    "    \n",
    "    outcome1 = pm.Binomial(\"outcome1\", 1, outcome1_p, observed = 0 , shape = (1))\n",
    "    \n",
    "    happy1 = outcome1*desire*(1-noise) + noise*(1-desire)\n",
    "    # if agent believes both actions are needed, they won't be frustrated at the lack of an outcome\n",
    "    frustrated1 = (1-outcome1)*desire*tt.neq(belief1, 2)*(1-noise) + (1-outcome1)*desire*tt.eq(belief1, 2)*noise + noise*(1-desire)\n",
    "    neutral1 = [1]\n",
    "    emotion_array1 = tt.transpose(tt.stack(happy1, frustrated1, neutral1 ))\n",
    "    expression1 = pm.Categorical(\"expression1\",emotion_array1,observed=1 ) # happy, frustrated, neutral\n",
    "\n",
    "    # if frustrated, agent is likely to revise belief\n",
    "    # else stick to previous belief\n",
    "    belief2_random = pm.Categorical(\"belief2_random\", [1,1,1], shape=(1))\n",
    "    belief2 = pm.Deterministic(\"belief2\", tt.eq(expression1,1)*belief2_random + \\\n",
    "                              tt.neq(expression1,1)*belief1)\n",
    "    \n",
    "    draw = 2000 \n",
    "    trace2c = pm.sample(draw, tune=1000, chains=4, return_inferencedata=False)\n",
    "\n",
    "unique, counts = np.unique(trace2c[\"world\"], return_counts=True)\n",
    "worldposterior_t3 = sort_category(unique, counts)\n",
    "rmse_output_t3 = rmse(worldposterior_t3, worldhuman_emotion_t3)\n",
    "print(rmse_output_t3)"
   ]
  },
  {
   "cell_type": "code",
   "execution_count": 39,
   "id": "35dd3356",
   "metadata": {},
   "outputs": [
    {
     "name": "stderr",
     "output_type": "stream",
     "text": [
      "Multiprocess sampling (4 chains in 2 jobs)\n",
      "CompoundStep\n",
      ">CategoricalGibbsMetropolis: [belief2_random, belief1_random, world]\n",
      ">NUTS: [knowledge_p]\n",
      ">CompoundStep\n",
      ">>Metropolis: [desire]\n",
      ">>Metropolis: [knowledge]\n"
     ]
    },
    {
     "data": {
      "text/html": [
       "\n",
       "    <div>\n",
       "        <style>\n",
       "            /* Turns off some styling */\n",
       "            progress {\n",
       "                /* gets rid of default border in Firefox and Opera. */\n",
       "                border: none;\n",
       "                /* Needs to be in here for Safari polyfill so background images work as expected. */\n",
       "                background-size: auto;\n",
       "            }\n",
       "            .progress-bar-interrupted, .progress-bar-interrupted::-webkit-progress-bar {\n",
       "                background: #F44336;\n",
       "            }\n",
       "        </style>\n",
       "      <progress value='12000' class='' max='12000' style='width:300px; height:20px; vertical-align: middle;'></progress>\n",
       "      100.00% [12000/12000 01:01<00:00 Sampling 4 chains, 0 divergences]\n",
       "    </div>\n",
       "    "
      ],
      "text/plain": [
       "<IPython.core.display.HTML object>"
      ]
     },
     "metadata": {},
     "output_type": "display_data"
    },
    {
     "name": "stderr",
     "output_type": "stream",
     "text": [
      "Sampling 4 chains for 1_000 tune and 2_000 draw iterations (4_000 + 8_000 draws total) took 78 seconds.\n",
      "The number of effective samples is smaller than 25% for some parameters.\n"
     ]
    },
    {
     "name": "stdout",
     "output_type": "stream",
     "text": [
      "0.046537487425447555\n",
      "0.0677031243980152\n"
     ]
    }
   ],
   "source": [
    "np.random.seed(123456)\n",
    "with pm.Model() as model2d:\n",
    "    noise = .15\n",
    "    world = pm.Categorical(\"world\", [human_prior], shape=(1)) # blue, orange, both, others\n",
    "    knowledge_p = pm.Beta(\"knowledge_p\", a, b, shape=(1)) # reliability of the agent's knowledge\n",
    "    knowledge = pm.Binomial(\"knowledge\", 1, knowledge_p, shape=(1))\n",
    "    \n",
    "    belief1_random = pm.Categorical(\"belief1_random\", [1,1,1], shape=(1))\n",
    "    belief1 = pm.Deterministic(\"belief1\", knowledge*world + (1-knowledge)*belief1_random)\n",
    "    \n",
    "    desire = pm.Binomial(\"desire\",1, d, shape=(1)) # bulb=1, others=0\n",
    "\n",
    "    action1_blue_p = pm.Deterministic(\"action1_blue_p\", tt.eq(belief1,0)*desire*(1-noise) + \\\n",
    "                                      # if believe both are needed,\n",
    "                                      tt.eq(belief1,2)*desire*(1-noise) + \\\n",
    "                                      # mistaken action\n",
    "                                      tt.eq(belief1,1)*desire*noise +\\\n",
    "                                      # if desire something else\n",
    "                                      (1-desire)*noise)\n",
    "    action1_blue_p = perturb(action1_blue_p)\n",
    "    \n",
    "    action1_orange_p = pm.Deterministic(\"action1_orange_p\", tt.eq(belief1,1)*desire*(1-noise) + \\\n",
    "                                        # if belief both are needed,\n",
    "                                        tt.eq(belief1,2)*desire*(1-noise) + \\\n",
    "                                        # mistaken action\n",
    "                                        tt.eq(belief1,0)*desire*noise +\\\n",
    "                                        # if desire something else,\n",
    "                                        (1-desire)*noise)\n",
    "    action1_orange_p = perturb(action1_orange_p)\n",
    "    \n",
    "    action1_stack = tt.transpose(tt.stack(action1_blue_p,action1_orange_p,[noise*2]))\n",
    "    action1 = pm.Categorical(\"action1\",action1_stack,observed=0,shape=(1)) # blue orange others\n",
    "    \n",
    "    outcome1_p = pm.Deterministic(\"outcome1_p\", tt.eq(world,0)*tt.eq(action1,0)*(1-delay) + \\\n",
    "                                  tt.eq(world,1)*tt.eq(action1,1)*(1-delay) + \\\n",
    "                                  # if both boxes are required, then outcome will not happen\n",
    "                                  tt.eq(world,2)*0)\n",
    "    outcome1_p = perturb(outcome1_p,noise) # add noise to outcome\n",
    "    \n",
    "    outcome1 = pm.Binomial(\"outcome1\", 1, outcome1_p, observed = 0 , shape = (1))\n",
    "    \n",
    "    happy1 = outcome1*desire*(1-noise) + noise*(1-desire)\n",
    "    # if agent believes both actions are needed, they won't be frustrated at the lack of an outcome\n",
    "    frustrated1 = (1-outcome1)*desire*tt.neq(belief1, 2)*(1-noise) + (1-outcome1)*desire*tt.eq(belief1, 2)*noise + noise*(1-desire)\n",
    "    neutral1 = [1]\n",
    "    emotion_array1 = tt.transpose(tt.stack(happy1, frustrated1, neutral1 ))\n",
    "    expression1 = pm.Categorical(\"expression1\",emotion_array1,observed=1 ) # happy, frustrated, neutral\n",
    "\n",
    "    # if frustrated, agent is likely to revise belief\n",
    "    # else stick to previous belief\n",
    "    belief2_random = pm.Categorical(\"belief2_random\", [1,1,1], shape=(1))\n",
    "    belief2 = pm.Deterministic(\"belief2\", tt.eq(expression1,1)*belief2_random + \\\n",
    "                              tt.neq(expression1,1)*belief1)\n",
    "    \n",
    "    # if outcome has been reached (and agent desired outcome), then likely no action would follow \n",
    "    action2_blue_p = pm.Deterministic(\"action2_blue_p\", tt.switch(tt.eq(outcome1,0)*desire, \\\n",
    "                                                                  tt.eq(belief2,0)*(1-noise) + \\\n",
    "                                                                  # if belief both are needed and orange was pushed previously, then push blue\n",
    "                                                                  tt.eq(belief2,2)*tt.eq(action1,1)*(1-noise)+ \\\n",
    "                                                                  # mistaken action\n",
    "                                                                  tt.eq(belief2,1)*noise,\n",
    "                                                                  # if outcome was reached at t1, no further action required\n",
    "                                                                  noise)) \n",
    "    action2_blue_p = perturb(action2_blue_p)\n",
    "    \n",
    "    # if outcome has been reached (and agent desired outcome), then likely no action would follow \n",
    "    action2_orange_p = pm.Deterministic(\"action2_orange_p\", tt.switch(tt.eq(outcome1,0)*desire, \\\n",
    "                                                                  tt.eq(belief2,1)*(1-noise) + \\\n",
    "                                                                  # if belief both are needed and blue was pushed previously, then push orange \n",
    "                                                                  tt.eq(belief2,2)*tt.eq(action1,0)*(1-noise)+ \\\n",
    "                                                                  # mistaken action\n",
    "                                                                  tt.eq(belief2,0)*noise,\n",
    "                                                                  noise)) \n",
    "    action2_orange_p = perturb(action2_orange_p)\n",
    "    action2_stack = tt.transpose(tt.stack(action2_blue_p, action2_orange_p, [noise*2]))\n",
    "    action2 = pm.Categorical(\"action2\", action2_stack, observed=1, shape=(1)) # blue orange \n",
    "    \n",
    "    draw = 2000 \n",
    "    trace2d = pm.sample(draw, tune=1000, chains=4, return_inferencedata=False)\n",
    "    \n",
    "unique, counts = np.unique(trace2d[\"world\"], return_counts=True)\n",
    "worldposterior_t4 = sort_category(unique, counts)\n",
    "rmse_output_t4 = rmse(worldposterior_t4, worldhuman_emotion_t4)\n",
    "print(rmse_output_t4)\n",
    "unique, counts = np.unique(trace2[\"world\"], return_counts=True)\n",
    "worldposterior_t5 = sort_category(unique, counts)\n",
    "rmse_output_t5 = rmse(worldposterior_t5, worldhuman_emotion_t5)\n",
    "print(rmse_output_t5)"
   ]
  },
  {
   "cell_type": "markdown",
   "id": "fdd33adb-3887-455f-9c84-800feff6ce99",
   "metadata": {},
   "source": [
    "### Summary statistics"
   ]
  },
  {
   "cell_type": "code",
   "execution_count": 40,
   "id": "34826269",
   "metadata": {},
   "outputs": [
    {
     "name": "stdout",
     "output_type": "stream",
     "text": [
      "world t1: {0: 3045, 1: 2454, 2: 2501}\n",
      "[0.380625 0.30675  0.312625]\n"
     ]
    }
   ],
   "source": [
    "unique, counts = np.unique(trace2ab[\"world_prior\"], return_counts=True)\n",
    "print(\"world t1: \" + str(dict(zip(unique, counts))))\n",
    "print(sort_category(unique, counts))"
   ]
  },
  {
   "cell_type": "code",
   "execution_count": 41,
   "id": "6a1183a3",
   "metadata": {},
   "outputs": [
    {
     "name": "stdout",
     "output_type": "stream",
     "text": [
      "world t1 :[array([0.352   , 0.278   , 0.281975]), array([0.41 , 0.335, 0.341])]\n"
     ]
    }
   ],
   "source": [
    "np.random.seed(123456)\n",
    "print(\"world t1 :\" + str(compute_ci_discrete(flatten(trace2ab[\"world_prior\"]), HDI = .95, n = 1000, sim = 1000)))"
   ]
  },
  {
   "cell_type": "code",
   "execution_count": 42,
   "id": "399624fa",
   "metadata": {},
   "outputs": [
    {
     "name": "stdout",
     "output_type": "stream",
     "text": [
      "world t2: {0: 3792, 1: 1675, 2: 2533}\n",
      "[0.474    0.209375 0.316625]\n"
     ]
    }
   ],
   "source": [
    "unique, counts = np.unique(trace2ab[\"world\"], return_counts=True)\n",
    "print(\"world t2: \" + str(dict(zip(unique, counts))))\n",
    "print(sort_category(unique, counts))"
   ]
  },
  {
   "cell_type": "code",
   "execution_count": 43,
   "id": "2d4deb24",
   "metadata": {},
   "outputs": [
    {
     "name": "stdout",
     "output_type": "stream",
     "text": [
      "world t2 :[array([0.443, 0.185, 0.289]), array([0.506, 0.235, 0.347])]\n"
     ]
    }
   ],
   "source": [
    "np.random.seed(123456)\n",
    "print(\"world t2 :\" + str(compute_ci_discrete(flatten(trace2ab[\"world\"]), HDI = .95, n = 1000, sim = 1000)))"
   ]
  },
  {
   "cell_type": "code",
   "execution_count": 44,
   "id": "b0f2e408",
   "metadata": {},
   "outputs": [
    {
     "name": "stdout",
     "output_type": "stream",
     "text": [
      "world t3: {0: 2223, 1: 2824, 2: 2953}\n",
      "[0.277875 0.353    0.369125]\n"
     ]
    }
   ],
   "source": [
    "unique, counts = np.unique(trace2c[\"world\"], return_counts=True)\n",
    "print(\"world t3: \" + str(dict(zip(unique, counts))))\n",
    "print(sort_category(unique, counts))"
   ]
  },
  {
   "cell_type": "code",
   "execution_count": 45,
   "id": "eebc1147",
   "metadata": {},
   "outputs": [
    {
     "name": "stdout",
     "output_type": "stream",
     "text": [
      "world t3 :[array([0.248975, 0.325   , 0.342   ]), array([0.304, 0.381, 0.399])]\n"
     ]
    }
   ],
   "source": [
    "np.random.seed(123456)\n",
    "print(\"world t3 :\" + str(compute_ci_discrete(flatten(trace2c[\"world\"]), HDI = .95, n = 1000, sim = 1000)))"
   ]
  },
  {
   "cell_type": "code",
   "execution_count": 46,
   "id": "e12555d2",
   "metadata": {},
   "outputs": [
    {
     "name": "stdout",
     "output_type": "stream",
     "text": [
      "world t4: {0: 2302, 1: 2783, 2: 2915}\n",
      "[0.28775  0.347875 0.364375]\n"
     ]
    }
   ],
   "source": [
    "unique, counts = np.unique(trace2d[\"world\"], return_counts=True)\n",
    "print(\"world t4: \" + str(dict(zip(unique, counts))))\n",
    "print(sort_category(unique, counts))"
   ]
  },
  {
   "cell_type": "code",
   "execution_count": 47,
   "id": "ca69f1e1",
   "metadata": {},
   "outputs": [
    {
     "name": "stdout",
     "output_type": "stream",
     "text": [
      "world t4 :[array([0.26 , 0.318, 0.335]), array([0.317, 0.377, 0.394])]\n"
     ]
    }
   ],
   "source": [
    "np.random.seed(123456)\n",
    "print(\"world t4 :\" + str(compute_ci_discrete(flatten(trace2d[\"world\"]), HDI = .95, n = 1000, sim = 1000)))"
   ]
  },
  {
   "cell_type": "code",
   "execution_count": 48,
   "id": "fffa5133",
   "metadata": {},
   "outputs": [
    {
     "name": "stdout",
     "output_type": "stream",
     "text": [
      "world t5: {0: 764, 1: 3489, 2: 3747}\n",
      "[0.0955   0.436125 0.468375]\n"
     ]
    }
   ],
   "source": [
    "unique, counts = np.unique(trace2[\"world\"], return_counts=True)\n",
    "print(\"world t5: \" + str(dict(zip(unique, counts))))\n",
    "print(sort_category(unique, counts))"
   ]
  },
  {
   "cell_type": "code",
   "execution_count": 49,
   "id": "2a2be027",
   "metadata": {},
   "outputs": [
    {
     "name": "stdout",
     "output_type": "stream",
     "text": [
      "world t5 :[array([0.076   , 0.405975, 0.438   ]), array([0.113   , 0.466025, 0.499   ])]\n"
     ]
    }
   ],
   "source": [
    "np.random.seed(123456)\n",
    "print(\"world t5 :\" + str(compute_ci_discrete(flatten(trace2[\"world\"]), HDI = .95, n = 1000, sim = 1000)))"
   ]
  }
 ],
 "metadata": {
  "kernelspec": {
   "display_name": "Python 3 (ipykernel)",
   "language": "python",
   "name": "python3"
  },
  "language_info": {
   "codemirror_mode": {
    "name": "ipython",
    "version": 3
   },
   "file_extension": ".py",
   "mimetype": "text/x-python",
   "name": "python",
   "nbconvert_exporter": "python",
   "pygments_lexer": "ipython3",
   "version": "3.8.0"
  }
 },
 "nbformat": 4,
 "nbformat_minor": 5
}
